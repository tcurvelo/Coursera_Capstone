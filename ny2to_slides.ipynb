{
 "cells": [
  {
   "cell_type": "markdown",
   "metadata": {
    "slideshow": {
     "slide_type": "slide"
    }
   },
   "source": [
    "# Moving from New York to Toronto"
   ]
  },
  {
   "cell_type": "markdown",
   "metadata": {
    "slideshow": {
     "slide_type": "slide"
    }
   },
   "source": [
    "## 1. Background\n",
    "\n",
    "- Imagine a family from New York that suddenly needs to move to Toronto, Canada\n",
    "- To make moving easier, choosing a homelike neighborhood would be helpful\n",
    "- Let's do a data analysis to find similar regions between cities"
   ]
  },
  {
   "cell_type": "markdown",
   "metadata": {
    "slideshow": {
     "slide_type": "slide"
    }
   },
   "source": [
    "# 2. Data\n",
    "\n",
    "- For both cities, we will collect the neighborhood's data containing geo coordinates\n",
    "- Using the Foursquare API, we will collect the venues for each neighborhood.\n",
    "- With the venues in place, we will use the KMeans to identify similar neighborhoods"
   ]
  },
  {
   "cell_type": "markdown",
   "metadata": {
    "slideshow": {
     "slide_type": "slide"
    }
   },
   "source": [
    "# 3. Methodology"
   ]
  },
  {
   "cell_type": "markdown",
   "metadata": {
    "slideshow": {
     "slide_type": "subslide"
    }
   },
   "source": [
    "### 3.1 Acquiring and cleaning neighborhoods data\n",
    "\n",
    "- After wrangling the data, we will have the neighborhoods name and geospatial data\n",
    "\n",
    "New York|Toronto\n",
    "--------------|----------------------\n",
    "![New York Sample](images/newyork_nb.png \"New York\")|![Toronto Sample](images/toronto_nb.png \"Toronto\")"
   ]
  },
  {
   "cell_type": "markdown",
   "metadata": {
    "slideshow": {
     "slide_type": "subslide"
    }
   },
   "source": [
    "### 3.1 Acquiring and cleaning neighborhoods data\n",
    "  \n",
    "\n",
    "![Neighnorhoods Map](images/to_ny_nbs.png)"
   ]
  },
  {
   "cell_type": "markdown",
   "metadata": {
    "slideshow": {
     "slide_type": "subslide"
    }
   },
   "source": [
    "### 3.2 Using Foursquare API to acquire venues data\n",
    "\n",
    "- Foursquare API allows us to discover venues around some coordinates.\n",
    "- For our analysis,  we will be particularly interested in the Categories name\n",
    "\n",
    "![Foursquare Sample](images/foursquare_sample_small.png)"
   ]
  },
  {
   "cell_type": "markdown",
   "metadata": {
    "slideshow": {
     "slide_type": "subslide"
    }
   },
   "source": [
    "### 3.2 Using Foursquare API to acquire venues data\n",
    "\n",
    "* **New York venues sample**\n",
    "\n",
    "![New York venues sample](images/ny_venues.png)\n",
    "\n",
    "* **Toronto venues sample**\n",
    "\n",
    "![Toronto venues sample](images/to_venues.png)"
   ]
  },
  {
   "cell_type": "markdown",
   "metadata": {
    "slideshow": {
     "slide_type": "subslide"
    }
   },
   "source": [
    "### 3.3 Clustering the neighborhoods\n",
    "\n",
    "- Before clustering, we need to encode categories into numerical values\n",
    "\n",
    "![Dummies Sample](images/dummies_sample.png)\n"
   ]
  },
  {
   "cell_type": "markdown",
   "metadata": {
    "slideshow": {
     "slide_type": "subslide"
    }
   },
   "source": [
    "### 3.3 Clustering the neighborhoods\n",
    "\n",
    "- We are going to use KMeans, from Scikit Learn\n",
    "- Then we add the cluster labels into the neighborhood dataframeth cities at once."
   ]
  },
  {
   "cell_type": "markdown",
   "metadata": {
    "slideshow": {
     "slide_type": "slide"
    }
   },
   "source": [
    "# 4. Results\n",
    "\n"
   ]
  },
  {
   "cell_type": "markdown",
   "metadata": {
    "slideshow": {
     "slide_type": "subslide"
    }
   },
   "source": [
    "## 4.1 Cluster #0 (sample)\n",
    "\n",
    "![Cluster 0](images/merged_df_cluster0.png)"
   ]
  },
  {
   "cell_type": "markdown",
   "metadata": {
    "slideshow": {
     "slide_type": "subslide"
    }
   },
   "source": [
    "## 4.1 Cluster #1 (sample)\n",
    "\n",
    "![Cluster 1](images/merged_df_cluster1.png)"
   ]
  },
  {
   "cell_type": "markdown",
   "metadata": {
    "slideshow": {
     "slide_type": "subslide"
    }
   },
   "source": [
    "## 4.1 Cluster #2 (sample)\n",
    "\n",
    "![Cluster 2](images/merged_df_cluster2.png)"
   ]
  },
  {
   "cell_type": "markdown",
   "metadata": {
    "slideshow": {
     "slide_type": "subslide"
    }
   },
   "source": [
    "## 4.1 Clusters  #3 and #4\n",
    "\n",
    "![Clusters 3 & 41](images/merged_df_cluster3_4.png)"
   ]
  },
  {
   "cell_type": "markdown",
   "metadata": {
    "slideshow": {
     "slide_type": "subslide"
    }
   },
   "source": [
    "## 4.2 Clusters on the map\n",
    "\n",
    "### Cluster #0\n",
    "\n",
    "![Cluster 0](images/cluster0.png)"
   ]
  },
  {
   "cell_type": "markdown",
   "metadata": {
    "slideshow": {
     "slide_type": "subslide"
    }
   },
   "source": [
    "## 4.2 Clusters on the map\n",
    "\n",
    "### Cluster #1\n",
    "\n",
    "![Cluster 1](images/cluster1.png)"
   ]
  },
  {
   "cell_type": "markdown",
   "metadata": {
    "slideshow": {
     "slide_type": "subslide"
    }
   },
   "source": [
    "## 4.2 Clusters on the map\n",
    "\n",
    "### Cluster #2\n",
    "\n",
    "![Cluster 2](images/cluster2.png)"
   ]
  },
  {
   "cell_type": "markdown",
   "metadata": {
    "slideshow": {
     "slide_type": "subslide"
    }
   },
   "source": [
    "## 4.2 Clusters on the map\n",
    "\n",
    "### Cluster #3\n",
    "\n",
    "![Cluster 3](images/cluster3.png)\n"
   ]
  },
  {
   "cell_type": "markdown",
   "metadata": {
    "slideshow": {
     "slide_type": "subslide"
    }
   },
   "source": [
    "## 4.2 Clusters on the map\n",
    "\n",
    "### Cluster #4\n",
    "\n",
    "![Cluster 4](images/cluster4.png)"
   ]
  },
  {
   "cell_type": "markdown",
   "metadata": {
    "slideshow": {
     "slide_type": "slide"
    }
   },
   "source": [
    "# 5. Conclusion\n",
    "\n",
    "- Clustering neighborhoods by the venues categories can valuable tool for comparing them\n",
    "- A moving family could narrow down their search by exploring neighborhoods from their hometown cluster"
   ]
  },
  {
   "cell_type": "markdown",
   "metadata": {
    "slideshow": {
     "slide_type": "slide"
    }
   },
   "source": [
    "# 6. Future Work\n",
    "\n",
    "- One could try to use fewer categories (eg. the  top 100, the customer favorites, etc)\n",
    "- Add data from the other Foursquare API endpoints (eg. trending, user tips)"
   ]
  }
 ],
 "metadata": {
  "celltoolbar": "Slideshow",
  "kernelspec": {
   "display_name": "Python 3",
   "language": "python",
   "name": "python3"
  },
  "language_info": {
   "codemirror_mode": {
    "name": "ipython",
    "version": 3
   },
   "file_extension": ".py",
   "mimetype": "text/x-python",
   "name": "python",
   "nbconvert_exporter": "python",
   "pygments_lexer": "ipython3",
   "version": "3.8.5"
  },
  "toc-autonumbering": false,
  "toc-showcode": false,
  "toc-showmarkdowntxt": false,
  "toc-showtags": false
 },
 "nbformat": 4,
 "nbformat_minor": 4
}
