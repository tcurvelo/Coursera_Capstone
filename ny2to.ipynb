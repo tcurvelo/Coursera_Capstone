{
 "cells": [
  {
   "cell_type": "markdown",
   "metadata": {},
   "source": [
    "# Moving from New York to Toronto"
   ]
  },
  {
   "cell_type": "markdown",
   "metadata": {},
   "source": [
    "## 1. Background"
   ]
  },
  {
   "cell_type": "markdown",
   "metadata": {},
   "source": [
    "Imagine you live in busy New York with your family and, although doing fine in the Big Apple, you receive an undeniable job proposal to work on a great company in Toronto, Canada. Despite the fact that New York offers many opportunities for its residents, Canada is a very open-minded and conviviality country, especially when we talk about public health care. \n",
    "\n",
    "Although they are not too far apart (about 8h away by car), moving to another city with the whole family is a big change and requires a lot of planning. After the initial excitement and celebrations, you and your significant other have a lot to plan. Indubitably, to choose to which Toronto's neighborhood you should move to is one of the bigger questions to answer.\n",
    "To decrease the change's impact, you decide to explore Toronto to find a neighborhood as similar as possible to the one you used to live in NY.\n",
    "\n",
    "This work will simulate that analysis, exploring both cities' neighborhoods and grouping them by their similarities regarding the venues found there."
   ]
  },
  {
   "cell_type": "markdown",
   "metadata": {},
   "source": [
    "# 2. Data"
   ]
  },
  {
   "cell_type": "markdown",
   "metadata": {},
   "source": [
    "- For both Toronto and New York, we will collect their neighborhood's data containing coordinates for each one.\n",
    "- Using the Foursquare API, we will collect the venues for each neighborhood.\n",
    "- With the venues data in place, we will use the KMeans algorithm to identify which neighborhoods have more similarities between the cities."
   ]
  }
 ],
 "metadata": {
  "kernelspec": {
   "display_name": "Python 3",
   "language": "python",
   "name": "python3"
  },
  "language_info": {
   "codemirror_mode": {
    "name": "ipython",
    "version": 3
   },
   "file_extension": ".py",
   "mimetype": "text/x-python",
   "name": "python",
   "nbconvert_exporter": "python",
   "pygments_lexer": "ipython3",
   "version": "3.8.5"
  }
 },
 "nbformat": 4,
 "nbformat_minor": 4
}
