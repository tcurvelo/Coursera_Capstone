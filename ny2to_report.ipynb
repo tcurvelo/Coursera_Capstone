{
 "cells": [
  {
   "cell_type": "markdown",
   "metadata": {},
   "source": [
    "# Moving from New York to Toronto"
   ]
  },
  {
   "cell_type": "markdown",
   "metadata": {},
   "source": [
    "## 1. Background"
   ]
  },
  {
   "cell_type": "markdown",
   "metadata": {},
   "source": [
    "Imagine you live in busy New York with your family and, although doing fine in the Big Apple, you receive an undeniable job proposal to work on a great company in Toronto, Canada. Despite the fact that New York offers many opportunities for its residents, Canada is a very open-minded and conviviality country, especially when we talk about public health care. \n",
    "\n",
    "Although they are not too far apart (about 8h away by car), moving to another city with the whole family is a big change and requires a lot of planning. After the initial excitement and celebrations, you and your significant other have a lot to plan. Indubitably, to choose to which Toronto's neighborhood you should move to is one of the bigger questions to answer.\n",
    "To decrease the change's impact, you decide to explore Toronto to find a neighborhood as similar as possible to the one you used to live in NY.\n",
    "\n",
    "This work will simulate that analysis, exploring both cities' neighborhoods and grouping them by their similarities regarding the venues found there."
   ]
  },
  {
   "cell_type": "markdown",
   "metadata": {},
   "source": [
    "# 2. Data"
   ]
  },
  {
   "cell_type": "markdown",
   "metadata": {},
   "source": [
    "- For both Toronto and New York, we will collect their neighborhood's data containing coordinates for each one.\n",
    "- Using the Foursquare API, we will collect the venues for each neighborhood.\n",
    "- With the venues data in place, we will use the KMeans algorithm to identify which neighborhoods have more similarities between the cities."
   ]
  },
  {
   "cell_type": "markdown",
   "metadata": {},
   "source": [
    "# 3. Methodology"
   ]
  },
  {
   "cell_type": "markdown",
   "metadata": {},
   "source": [
    "For this analysis, we use venues data as the baseline for clustering neighborhoods together. Our goal is to group them by their similarities regarding the interest points available on each one.\n",
    "\n",
    "### 3.1 Acquiring and cleaning neighborhoods data\n",
    "\n",
    "First, we have to collect data from New York. We discard any exceeding data, letting only the neighborhood name and its geo coordinates. \n",
    "\n",
    "Here is a sample:"
   ]
  },
  {
   "cell_type": "markdown",
   "metadata": {},
   "source": [
    "![New York Sample](images/newyork_nb.png \"New York\")"
   ]
  },
  {
   "cell_type": "markdown",
   "metadata": {},
   "source": [
    "Then, we do the same for Toronto. However, it will require two different data sources: one containing the neighborhood and its postal codes; and another one with the postal codes and geospatial coordinates.\n",
    "\n",
    "After cleaning them and joining them together, we have a similar dataframe:"
   ]
  },
  {
   "cell_type": "markdown",
   "metadata": {},
   "source": [
    "![Toronto Sample](images/toronto_nb.png \"Toronto\")"
   ]
  },
  {
   "cell_type": "markdown",
   "metadata": {},
   "source": [
    "To help us to visualize the neighborhoods and, later on, each cluster disposition, we will use the [Folium](https://python-visualization.github.io/folium/) library.\n",
    "\n",
    "With it and the dataframes we already have, we can easily plot the neighborhoods on a map:\n",
    "    \n",
    "\n",
    "![Neighnorhoods Map](images/to_ny_nbs.png)"
   ]
  },
  {
   "cell_type": "markdown",
   "metadata": {},
   "source": [
    "### 3.2 Using Foursquare API to acquire venues data"
   ]
  },
  {
   "cell_type": "markdown",
   "metadata": {},
   "source": [
    "The Foursquare API allows us to explore any point on a map and discover all venues around it. Using a free key and basic requests, we can collect some valuable information about venues, that will help us to build a profile for each neighborhood.\n",
    "\n",
    "Below is an example of the venue data we can acquire using Foursquare API. For our analysis,  we will be particularly interested in the Categories name."
   ]
  },
  {
   "cell_type": "markdown",
   "metadata": {},
   "source": [
    "![Foursquare Sample](images/foursquare_sample.png)"
   ]
  },
  {
   "cell_type": "markdown",
   "metadata": {},
   "source": [
    "Using the geospatial data from the previous dataframes, we make an API request for each neighborhood coordinates, in order to build a new dataframe for each city venues. Each row on those new tables represents a point of interest.\n",
    "\n",
    "Below we show some samples:"
   ]
  },
  {
   "cell_type": "markdown",
   "metadata": {},
   "source": [
    "* **New York venues sample**\n",
    "\n",
    "![New York venues sample](images/ny_venues.png)\n",
    "\n",
    "* **Toronto venues sample**\n",
    "\n",
    "![Toronto venues sample](images/to_venues.png)"
   ]
  },
  {
   "cell_type": "markdown",
   "metadata": {},
   "source": [
    "### 3.3 Clustering the neighborhoods\n",
    "\n",
    "After that, we will cluster the neighborhoods, based on the categories of their venues. To do that, we will use the KMeans algorithm, from the Scikit-learn library.\n",
    "\n",
    "However, before the clustering itself, we will need to turn the categories' names into binary columns (\"dummies\"). This process is called one-hot encoding.\n"
   ]
  },
  {
   "cell_type": "markdown",
   "metadata": {},
   "source": [
    "#### 3.3.1 Getting the dummies\n",
    "\n",
    "Pandas itself has the capabilities to extract the *dummies* from categorical data. \n",
    "We will concatenate both New York's and Toronto's venues together and use that single table to create the categories columns. After that, we calculate the mean for each venue, turning them into values between 0 and 1.\n",
    "\n",
    "Here is a sample:\n",
    "\n",
    "![Dummies Sample](images/dummies_sample.png)"
   ]
  },
  {
   "cell_type": "markdown",
   "metadata": {},
   "source": [
    "#### 3.3 Running KMeans and displaying the clusters\n",
    "\n",
    "Finally, we should run KMeans. We will provide the encoded venues dataframe to the model, altogether with some parameters like the intended number of clusters (eg. 5) and a random seed.\n",
    "\n",
    "After that, we will add the cluster labels into the neighborhood dataframe, and group them by the cluster.\n",
    "\n",
    "To a better visualization, we should use different colors for each one. Seaborn can easily provide color palettes for that.\n",
    "\n",
    "And lastly, for each cluster we will plot New York and Toronto side-by-side, using Folium. That will allows us to visualize the similar neighborhoods of both cities at once."
   ]
  },
  {
   "cell_type": "markdown",
   "metadata": {},
   "source": [
    "# 4. Results"
   ]
  },
  {
   "cell_type": "markdown",
   "metadata": {},
   "source": [
    "The final result of our analysis is a single neighborhood dataframe, containing the \"Cluster\" column. We filled each row with a different color, based on the cluster id.\n",
    "\n",
    "Here it is:\n",
    "\n",
    "![Neighborhoods & Clusters](images/merged_df.png)"
   ]
  },
  {
   "cell_type": "markdown",
   "metadata": {},
   "source": [
    "### 4.2 Clusters on the map\n",
    "For better visualization, we can plot each cluster into maps.\n",
    "\n",
    "#### 4.2.1 Cluster #0\n",
    "\n",
    "![Cluster 0](images/cluster0.png)\n",
    "\n",
    "#### 4.2.2 Cluster #1\n",
    "\n",
    "![Cluster 1](images/cluster1.png)\n",
    "\n",
    "#### 4.2.3 Cluster #2\n",
    "\n",
    "![Cluster 2](images/cluster2.png)\n",
    "\n",
    "#### 4.2.4 Cluster #3\n",
    "\n",
    "![Cluster 3](images/cluster3.png)\n",
    "\n",
    "#### 4.2.5 Cluster #4\n",
    "\n",
    "![Cluster 4](images/cluster4.png)\n"
   ]
  },
  {
   "cell_type": "markdown",
   "metadata": {},
   "source": [
    "# 5. Conclusion and Discussions"
   ]
  },
  {
   "cell_type": "markdown",
   "metadata": {},
   "source": [
    "We conclude that clustering neighborhoods (by the venues categories) is a feasible and valuable tool for comparing different regions. \n",
    "Regarding the hypothetical scenario that motivated this analysis, the New Yorker who wants to move to Toronto could simply pick the cluster from where they live currently, and explore Toronto's neighborhoods that look more like it, narrowing down their search."
   ]
  },
  {
   "cell_type": "markdown",
   "metadata": {},
   "source": [
    "We observed that clusters size vary considerably. Depending on how many clusters we chose or even the random seed we provide to KMeans, we can get some clusters containing a single neighborhood. An improving opportunity we suggest is to narrow down the number of categories used in the clustering. Maybe using only the most common venues categories, or filtering the ones our customer cares the most, could lead to better results.\n",
    "\n",
    "Another improvement suggestion for future works is to consider other aspects of venues, like trending, or customer tips."
   ]
  }
 ],
 "metadata": {
  "kernelspec": {
   "display_name": "Python 3",
   "language": "python",
   "name": "python3"
  },
  "language_info": {
   "codemirror_mode": {
    "name": "ipython",
    "version": 3
   },
   "file_extension": ".py",
   "mimetype": "text/x-python",
   "name": "python",
   "nbconvert_exporter": "python",
   "pygments_lexer": "ipython3",
   "version": "3.8.5"
  },
  "toc-autonumbering": false,
  "toc-showcode": false,
  "toc-showmarkdowntxt": false,
  "toc-showtags": false
 },
 "nbformat": 4,
 "nbformat_minor": 4
}
